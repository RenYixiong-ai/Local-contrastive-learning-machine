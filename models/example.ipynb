{
 "cells": [
  {
   "cell_type": "markdown",
   "metadata": {},
   "source": [
    "如何使用ModelPipeline"
   ]
  },
  {
   "cell_type": "code",
   "execution_count": 1,
   "metadata": {},
   "outputs": [
    {
     "name": "stdout",
     "output_type": "stream",
     "text": [
      "Pipeline output shape: torch.Size([1, 10])\n"
     ]
    }
   ],
   "source": [
    "import torch\n",
    "import torch.nn as nn\n",
    "\n",
    "class ModelPipeline(nn.Module):\n",
    "    def __init__(self, models=None):\n",
    "        super(ModelPipeline, self).__init__()\n",
    "        # 初始化模型列表\n",
    "        self.models = nn.ModuleList(models) if models else nn.ModuleList()\n",
    "\n",
    "    def add_model(self, model):\n",
    "        \"\"\"向管道中添加一个新模型\"\"\"\n",
    "        self.models.append(model)\n",
    "\n",
    "    def forward(self, x):\n",
    "        \"\"\"依次将输入数据通过所有模型\"\"\"\n",
    "        for model in self.models:\n",
    "            x = model(x)\n",
    "        return x\n",
    "\n",
    "# 示例：假设我们有两个已经训练好的模型\n",
    "class SimpleModelA(nn.Module):\n",
    "    def __init__(self):\n",
    "        super(SimpleModelA, self).__init__()\n",
    "        self.fc = nn.Linear(28 * 28, 128)\n",
    "        \n",
    "    def forward(self, x):\n",
    "        x = x.view(-1, 28 * 28)\n",
    "        return torch.relu(self.fc(x))\n",
    "\n",
    "class SimpleModelB(nn.Module):\n",
    "    def __init__(self):\n",
    "        super(SimpleModelB, self).__init__()\n",
    "        self.fc = nn.Linear(128, 64)\n",
    "        \n",
    "    def forward(self, x):\n",
    "        return torch.relu(self.fc(x))\n",
    "\n",
    "class SimpleModelC(nn.Module):\n",
    "    def __init__(self):\n",
    "        super(SimpleModelC, self).__init__()\n",
    "        self.fc = nn.Linear(64, 10)\n",
    "        \n",
    "    def forward(self, x):\n",
    "        return self.fc(x)\n",
    "\n",
    "# 初始化三个简单模型\n",
    "model_a = SimpleModelA()\n",
    "model_b = SimpleModelB()\n",
    "model_c = SimpleModelC()\n",
    "\n",
    "# 将它们添加到 pipeline 中\n",
    "pipeline = ModelPipeline()\n",
    "pipeline.add_model(model_a)\n",
    "pipeline.add_model(model_b)\n",
    "pipeline.add_model(model_c)  # 添加模型 C\n",
    "\n",
    "\n",
    "# 测试管道的前向传播\n",
    "sample_input = torch.randn(1, 1, 28, 28)  # MNIST 的单个样本\n",
    "output = pipeline(sample_input)\n",
    "print(\"Pipeline output shape:\", output.shape)"
   ]
  }
 ],
 "metadata": {
  "kernelspec": {
   "display_name": "normal",
   "language": "python",
   "name": "python3"
  },
  "language_info": {
   "codemirror_mode": {
    "name": "ipython",
    "version": 3
   },
   "file_extension": ".py",
   "mimetype": "text/x-python",
   "name": "python",
   "nbconvert_exporter": "python",
   "pygments_lexer": "ipython3",
   "version": "3.10.14"
  }
 },
 "nbformat": 4,
 "nbformat_minor": 2
}
