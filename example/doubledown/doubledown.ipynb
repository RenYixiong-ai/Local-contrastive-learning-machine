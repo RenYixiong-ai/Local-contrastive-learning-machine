{
 "cells": [
  {
   "cell_type": "code",
   "execution_count": 1,
   "metadata": {},
   "outputs": [
    {
     "name": "stdout",
     "output_type": "stream",
     "text": [
      "Current working directory: /home/yixiong_ren/work/FBM\n"
     ]
    }
   ],
   "source": [
    "import os\n",
    "\n",
    "local_path = os.getcwd()\n",
    "# 设置工作目录为项目的主目录\n",
    "os.chdir(\"../../\")  # 使用相对路径将工作目录切换到 project 文件夹\n",
    "print(\"Current working directory:\", os.getcwd())\n",
    "\n",
    "import torch\n",
    "import torch.nn as nn\n",
    "import torch.optim as optim\n",
    "import torch.nn.functional as F\n",
    "\n",
    "from models import modelset\n",
    "from train.train import train_FBM\n",
    "from utils import *"
   ]
  },
  {
   "cell_type": "code",
   "execution_count": 2,
   "metadata": {},
   "outputs": [
    {
     "name": "stdout",
     "output_type": "stream",
     "text": [
      "Using device: cuda\n"
     ]
    }
   ],
   "source": [
    "device = torch.device(\"cuda\" if torch.cuda.is_available() else \"cpu\")\n",
    "print(f\"Using device: {device}\")\n",
    "set_seed(42)"
   ]
  },
  {
   "cell_type": "code",
   "execution_count": 3,
   "metadata": {},
   "outputs": [
    {
     "name": "stdout",
     "output_type": "stream",
     "text": [
      "Images batch shape: torch.Size([64, 1, 28, 28])\n",
      "Labels batch shape: torch.Size([64])\n",
      "Sample labels: tensor([0, 4, 7, 8, 3, 7, 5, 1, 5, 3, 4, 6, 3, 0, 7, 5, 8, 0, 3, 0, 6, 6, 0, 2,\n",
      "        6, 4, 4, 1, 9, 7, 0, 0, 0, 4, 6, 2, 8, 3, 4, 4, 0, 6, 7, 3, 1, 7, 3, 6,\n",
      "        2, 2, 2, 2, 3, 3, 9, 5, 3, 3, 8, 1, 5, 4, 5, 2])\n"
     ]
    }
   ],
   "source": [
    "train_loader, test_loader = load_small_MNIST()\n",
    "data_iter = iter(train_loader)\n",
    "images, labels = next(data_iter)\n",
    "batch, channel, large, _ = images.shape\n",
    "\n",
    "\n",
    "def get_accuracy(d_f):\n",
    "    # 定义超参数\n",
    "    input_size = channel * large**2 # MNIST图像大小是28x28\n",
    "    hidden_dim =1000\n",
    "    num_classes = 10      # MNIST有10个类别\n",
    "    learning_rate = 0.01\n",
    "    lam = 0.01\n",
    "    d_f = 0.4\n",
    "    num_epochs = 20\n",
    "    batch_size = 64\n",
    "\n",
    "    model = train_FBM(input_size = input_size, \n",
    "                    output_size = hidden_dim, \n",
    "                    lam = lam, \n",
    "                    d_f = d_f, \n",
    "                    learning_rate = learning_rate, \n",
    "                    train_loader = train_loader, \n",
    "                    num_epochs = num_epochs, \n",
    "                    device = device)\n",
    "\n",
    "    train_loader1 = deal_dataloader(train_loader, model, device)\n",
    "\n",
    "\n",
    "\n",
    "    # 定义损失函数和优化器\n",
    "    model2 = modelset.MLP(hidden_dim, num_classes).to(device)\n",
    "    criterion2 = nn.CrossEntropyLoss()  # 使用交叉熵损失\n",
    "    optimizer = optim.Adam(model2.parameters(), lr=learning_rate)  # 使用随机梯度下降优化器\n",
    "\n",
    "    model2.train()\n",
    "    # 训练模型\n",
    "    epochs = 30\n",
    "    for epoch in range(epochs):\n",
    "        for images, labels in train_loader1:\n",
    "            # 将图像展平为一维向量，并将标签进行 one-hot 编码\n",
    "            images = images.to(device)\n",
    "            labels_one_hot = F.one_hot(labels, num_classes=num_classes).float().to(device)  # 将标签转换为 one-hot 编码\n",
    "\n",
    "            # 前向传播\n",
    "            outputs = model2(images)\n",
    "\n",
    "            # 计算损失\n",
    "            loss = criterion2(outputs, labels_one_hot)\n",
    "\n",
    "            # 反向传播和优化\n",
    "            optimizer.zero_grad()\n",
    "            loss.backward()\n",
    "            optimizer.step()\n",
    "        \n",
    "        #print(f\"Epoch [{epoch+1}/{epochs}], Loss: {loss.item():.4f}\")\n",
    "\n",
    "\n",
    "    # 设置模型为评估模式\n",
    "    model.eval()\n",
    "    model2.eval()\n",
    "\n",
    "    # 准确率计数\n",
    "    correct = 0\n",
    "    total = 0\n",
    "\n",
    "    # 禁用梯度计算，加速测试过程\n",
    "    with torch.no_grad():\n",
    "        for images, labels in test_loader:\n",
    "            # 将数据加载到 GPU\n",
    "            images = images.view(-1, input_size).to(device)\n",
    "            labels = labels.to(device)\n",
    "\n",
    "            # 前向传播\n",
    "            outputs = model(images)\n",
    "            outputs = model2(outputs)\n",
    "            \n",
    "            # 获取预测结果\n",
    "            _, predicted = torch.max(outputs, 1)\n",
    "            \n",
    "            # 更新计数\n",
    "            total += labels.size(0)\n",
    "            correct += (predicted == labels).sum().item()\n",
    "\n",
    "    # 计算准确率\n",
    "    accuracy = 100 * correct / total\n",
    "    #print(f'Accuracy on the test dataset: {accuracy:.2f}%')\n",
    "    return accuracy"
   ]
  },
  {
   "cell_type": "code",
   "execution_count": 4,
   "metadata": {},
   "outputs": [
    {
     "name": "stdout",
     "output_type": "stream",
     "text": [
      "Epoch [1/20], Loss: 0.1454\n",
      "Epoch [2/20], Loss: 0.1462\n",
      "Epoch [3/20], Loss: 0.1388\n",
      "Epoch [4/20], Loss: 0.1272\n",
      "Epoch [5/20], Loss: 0.1135\n",
      "Epoch [6/20], Loss: 0.1427\n",
      "Epoch [7/20], Loss: 0.1381\n",
      "Epoch [8/20], Loss: 0.1238\n",
      "Epoch [9/20], Loss: 0.1065\n",
      "Epoch [10/20], Loss: 0.1326\n",
      "Epoch [11/20], Loss: 0.1331\n",
      "Epoch [12/20], Loss: 0.1262\n",
      "Epoch [13/20], Loss: 0.1116\n",
      "Epoch [14/20], Loss: 0.1305\n",
      "Epoch [15/20], Loss: 0.1255\n",
      "Epoch [16/20], Loss: 0.1280\n",
      "Epoch [17/20], Loss: 0.1365\n",
      "Epoch [18/20], Loss: 0.1191\n",
      "Epoch [19/20], Loss: 0.1167\n",
      "Epoch [20/20], Loss: 0.0981\n",
      "Processed data shape: torch.Size([1000, 1000])\n",
      "Epoch [1/20], Loss: 0.1515\n",
      "Epoch [2/20], Loss: 0.1377\n",
      "Epoch [3/20], Loss: 0.1305\n",
      "Epoch [4/20], Loss: 0.1322\n",
      "Epoch [5/20], Loss: 0.1415\n",
      "Epoch [6/20], Loss: 0.1315\n",
      "Epoch [7/20], Loss: 0.1240\n",
      "Epoch [8/20], Loss: 0.1285\n",
      "Epoch [9/20], Loss: 0.1320\n",
      "Epoch [10/20], Loss: 0.1242\n",
      "Epoch [11/20], Loss: 0.1157\n",
      "Epoch [12/20], Loss: 0.1386\n",
      "Epoch [13/20], Loss: 0.1057\n",
      "Epoch [14/20], Loss: 0.1090\n",
      "Epoch [15/20], Loss: 0.1168\n",
      "Epoch [16/20], Loss: 0.1248\n",
      "Epoch [17/20], Loss: 0.0954\n",
      "Epoch [18/20], Loss: 0.1190\n",
      "Epoch [19/20], Loss: 0.1146\n",
      "Epoch [20/20], Loss: 0.1293\n",
      "Processed data shape: torch.Size([1000, 1000])\n",
      "Epoch [1/20], Loss: 0.1431\n",
      "Epoch [2/20], Loss: 0.1304\n",
      "Epoch [3/20], Loss: 0.1463\n",
      "Epoch [4/20], Loss: 0.1297\n",
      "Epoch [5/20], Loss: 0.1400\n",
      "Epoch [6/20], Loss: 0.1550\n",
      "Epoch [7/20], Loss: 0.1227\n",
      "Epoch [8/20], Loss: 0.1218\n",
      "Epoch [9/20], Loss: 0.1393\n",
      "Epoch [10/20], Loss: 0.1394\n",
      "Epoch [11/20], Loss: 0.1132\n",
      "Epoch [12/20], Loss: 0.1140\n",
      "Epoch [13/20], Loss: 0.1225\n",
      "Epoch [14/20], Loss: 0.1150\n",
      "Epoch [15/20], Loss: 0.1104\n",
      "Epoch [16/20], Loss: 0.1310\n",
      "Epoch [17/20], Loss: 0.1520\n",
      "Epoch [18/20], Loss: 0.1189\n",
      "Epoch [19/20], Loss: 0.1172\n",
      "Epoch [20/20], Loss: 0.1071\n",
      "Processed data shape: torch.Size([1000, 1000])\n"
     ]
    },
    {
     "data": {
      "image/png": "[encoded data removed]",
      "text/plain": [
       "<Figure size 800x600 with 1 Axes>"
      ]
     },
     "metadata": {},
     "output_type": "display_data"
    }
   ],
   "source": [
    "import matplotlib.pyplot as plt\n",
    "import pandas as pd\n",
    "\n",
    "# 假设 d_f 是在一定范围内变化的\n",
    "d_f_values = [0.1 * i for i in range(3)]  # 生成 0 到 5 的 d_f 值\n",
    "a_values = [get_accuracy(d_f) for d_f in d_f_values]  # 计算对应的 a 值\n",
    "\n",
    "# 绘制 a 随 d_f 变化的曲线\n",
    "plt.figure(figsize=(8, 6))\n",
    "plt.plot(d_f_values, a_values, marker='o', linestyle='-', color='b', label='Accuracy')\n",
    "plt.xlabel('d_f')\n",
    "plt.ylabel('a (Accuracy)')\n",
    "plt.title('Accuracy vs d_f')\n",
    "plt.legend()\n",
    "plt.grid(True)\n",
    "\n",
    "# 保存图像\n",
    "plt.savefig(os.path.join(local_path, \"accuracy_vs_d_f.png\"))\n",
    "\n",
    "# 保存数据到 CSV 文件\n",
    "data = {'d_f': d_f_values, 'a': a_values}\n",
    "df = pd.DataFrame(data)\n",
    "df.to_csv(os.path.join(local_path, \"accuracy_vs_d_f.csv\"), index=False)\n",
    "\n",
    "# 显示图像\n",
    "plt.show()\n"
   ]
  }
 ],
 "metadata": {
  "kernelspec": {
   "display_name": "normal",
   "language": "python",
   "name": "python3"
  },
  "language_info": {
   "codemirror_mode": {
    "name": "ipython",
    "version": 3
   },
   "file_extension": ".py",
   "mimetype": "text/x-python",
   "name": "python",
   "nbconvert_exporter": "python",
   "pygments_lexer": "ipython3",
   "version": "3.10.14"
  }
 },
 "nbformat": 4,
 "nbformat_minor": 2
}
