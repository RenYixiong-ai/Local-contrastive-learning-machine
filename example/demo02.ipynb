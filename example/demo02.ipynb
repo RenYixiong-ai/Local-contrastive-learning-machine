{
 "cells": [
  {
   "cell_type": "code",
   "execution_count": 1,
   "metadata": {},
   "outputs": [
    {
     "name": "stdout",
     "output_type": "stream",
     "text": [
      "Current working directory: /home/yixiong_ren/work/FBM\n"
     ]
    }
   ],
   "source": [
    "import os\n",
    "\n",
    "# 设置工作目录为项目的主目录\n",
    "os.chdir(\"../\")  # 使用相对路径将工作目录切换到 project 文件夹\n",
    "print(\"Current working directory:\", os.getcwd())"
   ]
  },
  {
   "cell_type": "code",
   "execution_count": 2,
   "metadata": {},
   "outputs": [
    {
     "name": "stdout",
     "output_type": "stream",
     "text": [
      "Using device: cuda\n"
     ]
    }
   ],
   "source": [
    "import torch\n",
    "import torch.nn as nn\n",
    "from utils import *\n",
    "device = torch.device(\"cuda\" if torch.cuda.is_available() else \"cpu\")\n",
    "print(f\"Using device: {device}\")\n",
    "set_seed(42)"
   ]
  },
  {
   "cell_type": "markdown",
   "metadata": {},
   "source": [
    "# 测试单层FBM准确性"
   ]
  },
  {
   "cell_type": "code",
   "execution_count": 3,
   "metadata": {},
   "outputs": [],
   "source": [
    "#train_loader, test_loader = load_cifar10()\n",
    "#selected_classes = [0, 1]\n",
    "class_counts = [100]*10\n",
    "datatype = 'MNIST'\n",
    "\n",
    "train_loader = get_dataloader(datatype, batch_size=64, train=True, class_counts=class_counts)\n",
    "test_loader = get_dataloader(datatype, batch_size=64, train=False)\n",
    "\n",
    "data_iter = iter(train_loader)\n",
    "images, labels = next(data_iter)\n",
    "batch, channel, large, _ = images.shape"
   ]
  },
  {
   "cell_type": "code",
   "execution_count": 4,
   "metadata": {},
   "outputs": [
    {
     "name": "stdout",
     "output_type": "stream",
     "text": [
      "Epoch [1/10], Loss: 0.7034\n",
      "Epoch [2/10], Loss: 0.5333\n",
      "Epoch [3/10], Loss: 0.4682\n",
      "Epoch [4/10], Loss: 0.5532\n",
      "Epoch [5/10], Loss: 0.4657\n",
      "Epoch [6/10], Loss: 0.4832\n",
      "Epoch [7/10], Loss: 0.4295\n",
      "Epoch [8/10], Loss: 0.4564\n",
      "Epoch [9/10], Loss: 0.4276\n",
      "Epoch [10/10], Loss: 0.3923\n"
     ]
    }
   ],
   "source": [
    "import torch.optim as optim\n",
    "import torch.nn.functional as F\n",
    "from train.train import train_FBM\n",
    "\n",
    "# 定义超参数\n",
    "input_size = channel * large**2 # MNIST图像大小是28x28\n",
    "hidden_dim =1000\n",
    "num_classes = 10      # MNIST有10个类别\n",
    "learning_rate = 0.01\n",
    "lam = 0.01\n",
    "d_f = 0.43\n",
    "alpha = 7.0\n",
    "num_epochs = 10\n",
    "batch_size = 64\n",
    "\n",
    "model = train_FBM(input_size = input_size, \n",
    "                output_size = hidden_dim, \n",
    "                lam = lam, \n",
    "                d_f = d_f,\n",
    "                alpha = alpha, \n",
    "                learning_rate = learning_rate, \n",
    "                train_loader = train_loader, \n",
    "                num_epochs = num_epochs, \n",
    "                device = device)"
   ]
  },
  {
   "cell_type": "code",
   "execution_count": 5,
   "metadata": {},
   "outputs": [
    {
     "name": "stdout",
     "output_type": "stream",
     "text": [
      "Epoch [1/60], Loss: 0.7589\n",
      "Epoch [2/60], Loss: 0.6577\n",
      "Epoch [3/60], Loss: 0.7947\n",
      "Epoch [4/60], Loss: 0.2216\n",
      "Epoch [5/60], Loss: 0.0538\n",
      "Epoch [6/60], Loss: 0.0208\n",
      "Epoch [7/60], Loss: 0.2233\n",
      "Epoch [8/60], Loss: 0.1038\n",
      "Epoch [9/60], Loss: 0.0340\n",
      "Epoch [10/60], Loss: 0.0357\n",
      "Epoch [11/60], Loss: 0.0087\n",
      "Epoch [12/60], Loss: 0.0095\n",
      "Epoch [13/60], Loss: 0.0149\n",
      "Epoch [14/60], Loss: 0.0140\n",
      "Epoch [15/60], Loss: 0.0155\n",
      "Epoch [16/60], Loss: 0.0090\n",
      "Epoch [17/60], Loss: 0.0060\n",
      "Epoch [18/60], Loss: 0.0112\n",
      "Epoch [19/60], Loss: 0.0070\n",
      "Epoch [20/60], Loss: 0.0034\n",
      "Epoch [21/60], Loss: 0.0037\n",
      "Epoch [22/60], Loss: 0.0057\n",
      "Epoch [23/60], Loss: 0.0024\n",
      "Epoch [24/60], Loss: 0.0033\n",
      "Epoch [25/60], Loss: 0.0034\n",
      "Epoch [26/60], Loss: 0.0022\n",
      "Epoch [27/60], Loss: 0.0026\n",
      "Epoch [28/60], Loss: 0.0025\n",
      "Epoch [29/60], Loss: 0.0041\n",
      "Epoch [30/60], Loss: 0.0037\n",
      "Epoch [31/60], Loss: 0.0046\n",
      "Epoch [32/60], Loss: 0.0020\n",
      "Epoch [33/60], Loss: 0.0047\n",
      "Epoch [34/60], Loss: 0.0022\n",
      "Epoch [35/60], Loss: 0.0027\n",
      "Epoch [36/60], Loss: 0.0008\n",
      "Epoch [37/60], Loss: 0.0024\n",
      "Epoch [38/60], Loss: 0.0019\n",
      "Epoch [39/60], Loss: 0.0032\n",
      "Epoch [40/60], Loss: 0.0028\n",
      "Epoch [41/60], Loss: 0.0016\n",
      "Epoch [42/60], Loss: 0.0029\n",
      "Epoch [43/60], Loss: 0.0017\n",
      "Epoch [44/60], Loss: 0.0031\n",
      "Epoch [45/60], Loss: 0.0031\n",
      "Epoch [46/60], Loss: 0.0018\n",
      "Epoch [47/60], Loss: 0.0016\n",
      "Epoch [48/60], Loss: 0.0014\n",
      "Epoch [49/60], Loss: 0.0013\n",
      "Epoch [50/60], Loss: 0.0020\n",
      "Epoch [51/60], Loss: 0.0011\n",
      "Epoch [52/60], Loss: 0.0008\n",
      "Epoch [53/60], Loss: 0.0012\n",
      "Epoch [54/60], Loss: 0.0024\n",
      "Epoch [55/60], Loss: 0.0018\n",
      "Epoch [56/60], Loss: 0.0011\n",
      "Epoch [57/60], Loss: 0.0017\n",
      "Epoch [58/60], Loss: 0.0014\n",
      "Epoch [59/60], Loss: 0.0018\n",
      "Epoch [60/60], Loss: 0.0011\n"
     ]
    }
   ],
   "source": [
    "train_loader1 = deal_dataloader(train_loader, model, device)\n",
    "\n",
    "from models import modelset\n",
    "\n",
    "# 定义损失函数和优化器\n",
    "model2 = modelset.MLP(hidden_dim, num_classes).to(device)\n",
    "criterion2 = nn.CrossEntropyLoss()  # 使用交叉熵损失\n",
    "optimizer = optim.Adam(model2.parameters(), lr=learning_rate)  # 使用随机梯度下降优化器\n",
    "\n",
    "model2.train()\n",
    "# 训练模型\n",
    "epochs = 60\n",
    "for epoch in range(epochs):\n",
    "    for images, labels in train_loader1:\n",
    "        # 将图像展平为一维向量，并将标签进行 one-hot 编码\n",
    "        images = images.to(device)\n",
    "        labels_one_hot = F.one_hot(labels, num_classes=num_classes).float().to(device)  # 将标签转换为 one-hot 编码\n",
    "\n",
    "        # 前向传播\n",
    "        outputs = model2(images)\n",
    "\n",
    "        # 计算损失\n",
    "        loss = criterion2(outputs, labels_one_hot)\n",
    "\n",
    "        # 反向传播和优化\n",
    "        optimizer.zero_grad()\n",
    "        loss.backward()\n",
    "        optimizer.step()\n",
    "    \n",
    "    print(f\"Epoch [{epoch+1}/{epochs}], Loss: {loss.item():.4f}\")"
   ]
  },
  {
   "cell_type": "code",
   "execution_count": 6,
   "metadata": {},
   "outputs": [
    {
     "name": "stdout",
     "output_type": "stream",
     "text": [
      "Accuracy on the test dataset: 89.02%\n"
     ]
    }
   ],
   "source": [
    "import torch\n",
    "\n",
    "# 设置模型为评估模式\n",
    "model.eval()\n",
    "model2.eval()\n",
    "\n",
    "# 准确率计数\n",
    "correct = 0\n",
    "total = 0\n",
    "\n",
    "# 禁用梯度计算，加速测试过程\n",
    "with torch.no_grad():\n",
    "    for images, labels in test_loader:\n",
    "        # 将数据加载到 GPU\n",
    "        images = images.view(-1, input_size).to(device)\n",
    "        labels = labels.to(device)\n",
    "\n",
    "        # 前向传播\n",
    "        outputs = model(images)\n",
    "        outputs = model2(outputs)\n",
    "        \n",
    "        # 获取预测结果\n",
    "        _, predicted = torch.max(outputs, 1)\n",
    "        \n",
    "        # 更新计数\n",
    "        total += labels.size(0)\n",
    "        correct += (predicted == labels).sum().item()\n",
    "\n",
    "# 计算准确率\n",
    "accuracy = 100 * correct / total\n",
    "print(f'Accuracy on the test dataset: {accuracy:.2f}%')"
   ]
  },
  {
   "cell_type": "markdown",
   "metadata": {},
   "source": [
    "# 测试全连接的准确性"
   ]
  },
  {
   "cell_type": "code",
   "execution_count": 7,
   "metadata": {},
   "outputs": [],
   "source": [
    "# 定义全连接层神经网络模型\n",
    "class MLP2(nn.Module):\n",
    "    def __init__(self, input_size, hidden_dim, num_classes):\n",
    "        super(MLP2, self).__init__()\n",
    "        self.input_size = input_size\n",
    "        self.linear1 = nn.Linear(input_size, hidden_dim)\n",
    "        self.linear2 = nn.Linear(hidden_dim, num_classes)\n",
    "\n",
    "    def forward(self, x):\n",
    "        x = x.view(-1, self.input_size)  # 展平图像\n",
    "        out = self.linear1(x)\n",
    "        out = F.softmax(out)\n",
    "        out = self.linear2(out)\n",
    "        return out"
   ]
  },
  {
   "cell_type": "code",
   "execution_count": 8,
   "metadata": {},
   "outputs": [
    {
     "name": "stdout",
     "output_type": "stream",
     "text": [
      "Epoch [1/60], Loss: 2.1345\n"
     ]
    },
    {
     "name": "stderr",
     "output_type": "stream",
     "text": [
      "/tmp/ipykernel_15580/3570110445.py:12: UserWarning: Implicit dimension choice for softmax has been deprecated. Change the call to include dim=X as an argument.\n",
      "  out = F.softmax(out)\n"
     ]
    },
    {
     "name": "stdout",
     "output_type": "stream",
     "text": [
      "Epoch [2/60], Loss: 1.9214\n",
      "Epoch [3/60], Loss: 1.6496\n"
     ]
    },
    {
     "name": "stdout",
     "output_type": "stream",
     "text": [
      "Epoch [4/60], Loss: 1.3822\n",
      "Epoch [5/60], Loss: 1.3116\n",
      "Epoch [6/60], Loss: 0.9886\n",
      "Epoch [7/60], Loss: 0.9105\n",
      "Epoch [8/60], Loss: 0.8328\n",
      "Epoch [9/60], Loss: 0.6157\n",
      "Epoch [10/60], Loss: 0.5488\n",
      "Epoch [11/60], Loss: 0.5768\n",
      "Epoch [12/60], Loss: 0.4642\n",
      "Epoch [13/60], Loss: 0.5294\n",
      "Epoch [14/60], Loss: 0.3732\n",
      "Epoch [15/60], Loss: 0.2952\n",
      "Epoch [16/60], Loss: 0.3365\n",
      "Epoch [17/60], Loss: 0.3097\n",
      "Epoch [18/60], Loss: 0.4922\n",
      "Epoch [19/60], Loss: 0.2292\n",
      "Epoch [20/60], Loss: 0.3184\n",
      "Epoch [21/60], Loss: 0.2520\n",
      "Epoch [22/60], Loss: 0.3107\n",
      "Epoch [23/60], Loss: 0.2393\n",
      "Epoch [24/60], Loss: 0.1354\n",
      "Epoch [25/60], Loss: 0.2835\n",
      "Epoch [26/60], Loss: 0.3091\n",
      "Epoch [27/60], Loss: 0.3736\n",
      "Epoch [28/60], Loss: 0.2371\n",
      "Epoch [29/60], Loss: 0.1657\n",
      "Epoch [30/60], Loss: 0.1071\n",
      "Epoch [31/60], Loss: 0.0932\n",
      "Epoch [32/60], Loss: 0.1548\n",
      "Epoch [33/60], Loss: 0.1534\n",
      "Epoch [34/60], Loss: 0.1418\n",
      "Epoch [35/60], Loss: 0.0812\n",
      "Epoch [36/60], Loss: 0.0708\n",
      "Epoch [37/60], Loss: 0.3770\n",
      "Epoch [38/60], Loss: 0.2029\n",
      "Epoch [39/60], Loss: 0.0677\n",
      "Epoch [40/60], Loss: 0.1709\n",
      "Epoch [41/60], Loss: 0.4654\n",
      "Epoch [42/60], Loss: 0.1464\n",
      "Epoch [43/60], Loss: 0.1232\n",
      "Epoch [44/60], Loss: 0.1239\n",
      "Epoch [45/60], Loss: 0.1545\n",
      "Epoch [46/60], Loss: 0.1820\n",
      "Epoch [47/60], Loss: 0.1277\n",
      "Epoch [48/60], Loss: 0.2899\n",
      "Epoch [49/60], Loss: 0.1216\n",
      "Epoch [50/60], Loss: 0.0487\n",
      "Epoch [51/60], Loss: 0.0492\n",
      "Epoch [52/60], Loss: 0.2247\n",
      "Epoch [53/60], Loss: 0.0431\n",
      "Epoch [54/60], Loss: 0.3541\n",
      "Epoch [55/60], Loss: 0.3803\n",
      "Epoch [56/60], Loss: 0.2022\n",
      "Epoch [57/60], Loss: 0.3125\n",
      "Epoch [58/60], Loss: 0.0410\n",
      "Epoch [59/60], Loss: 0.0398\n",
      "Epoch [60/60], Loss: 0.1117\n"
     ]
    }
   ],
   "source": [
    "# 定义损失函数和优化器\n",
    "model3 = MLP2(input_size, 1000,num_classes).to(device)\n",
    "criterion2 = nn.CrossEntropyLoss()  # 使用交叉熵损失\n",
    "optimizer = optim.Adam(model3.parameters(), lr=learning_rate)  # 使用随机梯度下降优化器\n",
    "\n",
    "# 训练模型\n",
    "epochs = 60\n",
    "for epoch in range(epochs):\n",
    "    for images, labels in train_loader:\n",
    "        # 将图像展平为一维向量，并将标签进行 one-hot 编码\n",
    "        images = images.to(device)\n",
    "        labels_one_hot = F.one_hot(labels, num_classes=num_classes).float().to(device)  # 将标签转换为 one-hot 编码\n",
    "\n",
    "        # 前向传播\n",
    "        outputs = model3(images)\n",
    "\n",
    "        # 计算损失\n",
    "        loss = criterion2(outputs, labels_one_hot)\n",
    "\n",
    "        # 反向传播和优化\n",
    "        optimizer.zero_grad()\n",
    "        loss.backward()\n",
    "        optimizer.step()\n",
    "    \n",
    "    print(f\"Epoch [{epoch+1}/{epochs}], Loss: {loss.item():.4f}\")"
   ]
  },
  {
   "cell_type": "code",
   "execution_count": 9,
   "metadata": {},
   "outputs": [
    {
     "name": "stderr",
     "output_type": "stream",
     "text": [
      "/tmp/ipykernel_15580/3570110445.py:12: UserWarning: Implicit dimension choice for softmax has been deprecated. Change the call to include dim=X as an argument.\n",
      "  out = F.softmax(out)\n"
     ]
    },
    {
     "name": "stdout",
     "output_type": "stream",
     "text": [
      "Accuracy on the test dataset: 83.43%\n"
     ]
    }
   ],
   "source": [
    "import torch\n",
    "\n",
    "# 设置模型为评估模式\n",
    "model3.eval()\n",
    "\n",
    "# 准确率计数\n",
    "correct = 0\n",
    "total = 0\n",
    "\n",
    "# 禁用梯度计算，加速测试过程\n",
    "with torch.no_grad():\n",
    "    for images, labels in test_loader:\n",
    "        # 将数据加载到 GPU\n",
    "        images = images.view(-1, input_size).to(device)\n",
    "        labels = labels.to(device)\n",
    "\n",
    "        # 前向传播\n",
    "        outputs = model3(images)\n",
    "        \n",
    "        # 获取预测结果\n",
    "        _, predicted = torch.max(outputs, 1)\n",
    "        \n",
    "        # 更新计数\n",
    "        total += labels.size(0)\n",
    "        correct += (predicted == labels).sum().item()\n",
    "\n",
    "# 计算准确率\n",
    "accuracy = 100 * correct / total\n",
    "print(f'Accuracy on the test dataset: {accuracy:.2f}%')"
   ]
  },
  {
   "cell_type": "markdown",
   "metadata": {},
   "source": [
    "上面逐个测试数据集在单层上面的准确性，并对比基于FBM和MLP两种情况下的表现）：\n",
    "| Dataset       | Model | Accuracy  |\n",
    "|---------------|-------|-----------|\n",
    "| CIFAR-10      | FBM   | 29.15%    |\n",
    "|               | MLP   | 26.47%    |\n",
    "| KMNIST        | FBM   | 67.12%    |\n",
    "|               | MLP   | 65.29%    |\n",
    "| FashionMNIST  | FBM   | 79.89%    |\n",
    "|               | MLP   | 75.10%    |\n",
    "| MNIST         | FBM   | 88.83%    |\n",
    "|               | MLP   | 85.07%    |\n",
    "\n",
    "* 参数设置均为两层全连接网络，其中隐藏层为1000.\n",
    "* 训练参数相同，epoch=60.训练集和测试集相同\n",
    "\n",
    "并且发现，测试水平和数据集的选取有很大关系，选用不同的训练集，波动很大"
   ]
  }
 ],
 "metadata": {
  "kernelspec": {
   "display_name": "normal",
   "language": "python",
   "name": "python3"
  },
  "language_info": {
   "codemirror_mode": {
    "name": "ipython",
    "version": 3
   },
   "file_extension": ".py",
   "mimetype": "text/x-python",
   "name": "python",
   "nbconvert_exporter": "python",
   "pygments_lexer": "ipython3",
   "version": "3.10.16"
  }
 },
 "nbformat": 4,
 "nbformat_minor": 2
}
