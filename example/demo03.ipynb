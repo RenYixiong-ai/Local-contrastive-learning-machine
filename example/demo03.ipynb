{
 "cells": [
  {
   "cell_type": "code",
   "execution_count": null,
   "metadata": {},
   "outputs": [],
   "source": [
    "import os\n",
    "import sys\n",
    "\n",
    "local_path = os.getcwd()\n",
    "# 设置工作目录为项目的主目录\n",
    "os.chdir(os.path.join(local_path, \"../\"))  # 使用相对路径将工作目录切换到 project 文件夹\n",
    "print(\"Current working directory:\", os.getcwd())\n",
    "project_path = os.path.abspath(os.path.join(local_path, \"../../\"))\n",
    "sys.path.append(project_path)   #将模块查找路径切换"
   ]
  },
  {
   "cell_type": "code",
   "execution_count": null,
   "metadata": {},
   "outputs": [],
   "source": [
    "import torch\n",
    "import torch.nn as nn\n",
    "from utils import *\n",
    "device = torch.device(\"cuda\" if torch.cuda.is_available() else \"cpu\")\n",
    "print(f\"Using device: {device}\")\n",
    "set_seed(42)"
   ]
  },
  {
   "cell_type": "code",
   "execution_count": null,
   "metadata": {},
   "outputs": [],
   "source": [
    "selected_classes = [0, 1]\n",
    "class_counts = [100, 100]\n",
    "\n",
    "train_loader = get_dataloader('CIFAR10', batch_size=64, train=True, selected_classes=selected_classes, class_counts=class_counts)\n",
    "test_loader = get_dataloader('CIFAR10', batch_size=64, train=False)\n",
    "\n",
    "data_iter = iter(train_loader)\n",
    "images, labels = next(data_iter)\n",
    "print(f\"Images batch shape: {images.shape}\")\n",
    "print(f\"Labels batch shape: {labels.shape}\")\n",
    "\n",
    "batch_size, channel, pixel_size, _ = images.shape"
   ]
  },
  {
   "cell_type": "code",
   "execution_count": null,
   "metadata": {},
   "outputs": [],
   "source": [
    "import train\n",
    "input_size = channel*pixel_size**2\n",
    "output_size = 10\n",
    "lam = 0.1\n",
    "d_f = 0.2\n",
    "alpha = 1.0\n",
    "learning_rate = 0.01\n",
    "num_epochs = 5\n",
    "train.train_FBM(input_size, output_size, lam, d_f, alpha, learning_rate, train_loader, num_epochs, device)"
   ]
  },
  {
   "cell_type": "markdown",
   "metadata": {},
   "source": [
    "# 目的\n",
    "设置一个深层的FBM网络，通过整体的推理，单独计算每一层的loss，然后逐层反向传播，进行优化。"
   ]
  },
  {
   "cell_type": "code",
   "execution_count": null,
   "metadata": {},
   "outputs": [],
   "source": [
    "# 对该函数功能的实现，并且并且集成在train函数里面\n",
    "\n",
    "from loss.loss import FBMLoss\n",
    "import models\n",
    "import torch.optim as optim\n",
    "hidden_list = [20, 40, 50]\n",
    "df_list = [1, 2, 3]\n",
    "alpha_list = [1, 2, 3]\n",
    "\n",
    "num = len(hidden_list)\n",
    "model_list = []\n",
    "criterion_list = []\n",
    "optimizer_list = []\n",
    "\n",
    "lam = 0.1\n",
    "input_size = channel*pixel_size**2\n",
    "\n",
    "for output_size, d_f, alpha in zip(hidden_list, df_list, alpha_list):\n",
    "    model = models.FBMLayer(input_size, output_size).to(device)\n",
    "    criterion = FBMLoss(output_size, lam, d_f, alpha)\n",
    "    optimizer = optim.Adam(model.parameters(), lr=learning_rate)\n",
    "\n",
    "    model_list.append(model)\n",
    "    criterion_list.append(criterion)\n",
    "    optimizer_list.append(optimizer)\n",
    "\n",
    "    input_size = output_size\n",
    "\n",
    "input_size = channel*pixel_size**2\n",
    "# 训练模型\n",
    "for epoch in range(num_epochs):\n",
    "\n",
    "    for images, labels in train_loader:\n",
    "        # 将图像和标签移动到 GPU 上\n",
    "        outputs = images.view(-1, input_size).to(device)  # 展平图像并转移到 GPU\n",
    "        labels = labels.to(device)  # 标签移动到 GPU\n",
    "\n",
    "        loss_list = []\n",
    "        for model, loss, optimizer in zip(model_list, criterion_list, optimizer_list):\n",
    "            # 前向传播\n",
    "            inputs = outputs.detach()\n",
    "            outputs = model(inputs)\n",
    "            loss = criterion(outputs, labels, model.linear.weight)\n",
    "\n",
    "            optimizer.zero_grad()\n",
    "            loss.backward()\n",
    "            optimizer.step()\n",
    "\n",
    "            loss_list.append(f'{loss.item():.4f}')\n",
    "            \n",
    "    print(f'Epoch [{epoch+1}/{num_epochs}], Loss: {loss_list}')\n",
    "\n",
    "pipeline = models.ModelPipeline()\n",
    "for model in model_list:\n",
    "    pipeline.add_model(model)\n",
    "\n"
   ]
  },
  {
   "cell_type": "code",
   "execution_count": null,
   "metadata": {},
   "outputs": [],
   "source": [
    "# 调用train函数\n",
    "import train\n",
    "model, _ = train.pre_DFBM(train_loader, [100, 100, 100], [1, 2, 3], [1, 2, 3], device, train_MLP=True)"
   ]
  },
  {
   "cell_type": "code",
   "execution_count": null,
   "metadata": {},
   "outputs": [],
   "source": [
    "# 准确率计数\n",
    "correct = 0\n",
    "total = 0\n",
    "\n",
    "# 禁用梯度计算，加速测试过程\n",
    "with torch.no_grad():\n",
    "    for images, labels in test_loader:\n",
    "        # 将数据加载到 GPU\n",
    "        images = images.view(-1, input_size).to(device)\n",
    "        labels = labels.to(device)\n",
    "\n",
    "        # 前向传播\n",
    "        outputs = model(images)\n",
    "        \n",
    "        # 获取预测结果\n",
    "        _, predicted = torch.max(outputs, 1)\n",
    "        \n",
    "        # 更新计数\n",
    "        total += labels.size(0)\n",
    "        correct += (predicted == labels).sum().item()\n",
    "\n",
    "# 计算准确率\n",
    "accuracy = 100 * correct / total\n",
    "print(f'Accuracy on the test dataset: {accuracy:.2f}%')"
   ]
  }
 ],
 "metadata": {
  "kernelspec": {
   "display_name": "normal",
   "language": "python",
   "name": "python3"
  },
  "language_info": {
   "codemirror_mode": {
    "name": "ipython",
    "version": 3
   },
   "file_extension": ".py",
   "mimetype": "text/x-python",
   "name": "python",
   "nbconvert_exporter": "python",
   "pygments_lexer": "ipython3",
   "version": "3.10.14"
  }
 },
 "nbformat": 4,
 "nbformat_minor": 2
}
